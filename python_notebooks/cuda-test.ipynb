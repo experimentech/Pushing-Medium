{
 "cells": [
  {
   "cell_type": "code",
   "execution_count": 1,
   "id": "f809f333",
   "metadata": {},
   "outputs": [
    {
     "name": "stdout",
     "output_type": "stream",
     "text": [
      "PyTorch version: 1.10.0\n",
      "CUDA available: True\n",
      "CUDA version: 10.2\n",
      "Device count: 1\n",
      "Current device: 0\n",
      "Device name: NVIDIA Tegra X1\n",
      "Device memory: 4.2 GB\n",
      "\n",
      "--- GPU Performance Test ---\n",
      "GPU matrix multiply (1000x1000): 28.22 ms\n",
      "GPU matrix multiply (1000x1000): 28.22 ms\n",
      "CPU matrix multiply (1000x1000): 74.26 ms\n",
      "GPU speedup: 2.6x\n",
      "CPU matrix multiply (1000x1000): 74.26 ms\n",
      "GPU speedup: 2.6x\n"
     ]
    }
   ],
   "source": [
    "import torch\n",
    "import torch.nn as nn\n",
    "import time\n",
    "\n",
    "print(\"PyTorch version:\", torch.__version__)\n",
    "print(\"CUDA available:\", torch.cuda.is_available())\n",
    "\n",
    "if torch.cuda.is_available():\n",
    "    print(\"CUDA version:\", torch.version.cuda)\n",
    "    print(\"Device count:\", torch.cuda.device_count())\n",
    "    print(\"Current device:\", torch.cuda.current_device())\n",
    "    print(\"Device name:\", torch.cuda.get_device_name(0))\n",
    "    print(\"Device memory:\", f\"{torch.cuda.get_device_properties(0).total_memory / 1e9:.1f} GB\")\n",
    "    \n",
    "    # Test basic tensor operations on GPU\n",
    "    print(\"\\n--- GPU Performance Test ---\")\n",
    "    device = torch.device('cuda')\n",
    "    \n",
    "    # Create test tensors\n",
    "    size = 1000\n",
    "    a = torch.randn(size, size, device=device)\n",
    "    b = torch.randn(size, size, device=device)\n",
    "    \n",
    "    # Warm up\n",
    "    _ = torch.matmul(a, b)\n",
    "    torch.cuda.synchronize()\n",
    "    \n",
    "    # Time matrix multiplication\n",
    "    start = time.time()\n",
    "    for _ in range(10):\n",
    "        c = torch.matmul(a, b)\n",
    "    torch.cuda.synchronize()\n",
    "    gpu_time = (time.time() - start) / 10\n",
    "    \n",
    "    print(f\"GPU matrix multiply ({size}x{size}): {gpu_time*1000:.2f} ms\")\n",
    "    \n",
    "    # Compare with CPU\n",
    "    a_cpu = a.cpu()\n",
    "    b_cpu = b.cpu()\n",
    "    start = time.time()\n",
    "    for _ in range(10):\n",
    "        c_cpu = torch.matmul(a_cpu, b_cpu)\n",
    "    cpu_time = (time.time() - start) / 10\n",
    "    \n",
    "    print(f\"CPU matrix multiply ({size}x{size}): {cpu_time*1000:.2f} ms\")\n",
    "    print(f\"GPU speedup: {cpu_time/gpu_time:.1f}x\")\n",
    "    \n",
    "else:\n",
    "    print(\"CUDA not available - using CPU only\")\n",
    "    device = torch.device('cpu')\n",
    "    print(\"Device:\", device)"
   ]
  }
 ],
 "metadata": {
  "kernelspec": {
   "display_name": "Python 3",
   "language": "python",
   "name": "python3"
  },
  "language_info": {
   "codemirror_mode": {
    "name": "ipython",
    "version": 3
   },
   "file_extension": ".py",
   "mimetype": "text/x-python",
   "name": "python",
   "nbconvert_exporter": "python",
   "pygments_lexer": "ipython3",
   "version": "3.6.9"
  }
 },
 "nbformat": 4,
 "nbformat_minor": 5
}
