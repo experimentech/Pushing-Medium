{
 "cells": [
  {
   "cell_type": "markdown",
   "id": "5894d66c",
   "metadata": {},
   "source": [
    "# PMFlow v0.2.0 – CNN Baseline Evaluation Notebook\n",
    "\n",
    "This notebook mirrors the BNN testing flow but focuses on the CNN baselines provided in `nn_lib_v2/pmflow_bnn/baselines.py`. We'll build, train, evaluate, and optionally export a small CNN on MNIST, then compare with a simple MLP baseline. It also demonstrates using the existing PMFlowEvaluator where applicable (e.g., throughput/parallel scaling) even though CNNs don't expose gravitational centers.\n"
   ]
  },
  {
   "cell_type": "code",
   "execution_count": 1,
   "id": "719c7a52",
   "metadata": {},
   "outputs": [
    {
     "name": "stdout",
     "output_type": "stream",
     "text": [
      "✅ Imported CNN/MLP baselines and evaluator from nn_lib_v2/pmflow_bnn\n"
     ]
    }
   ],
   "source": [
    "# 1) Import Dependencies\n",
    "import os\n",
    "import sys\n",
    "import math\n",
    "import time\n",
    "import json\n",
    "import random\n",
    "from pathlib import Path\n",
    "\n",
    "import torch\n",
    "import torch.nn as nn\n",
    "import torch.nn.functional as F\n",
    "import torch.optim as optim\n",
    "from torch.utils.data import DataLoader\n",
    "from torchvision import datasets, transforms\n",
    "\n",
    "import numpy as np\n",
    "import matplotlib.pyplot as plt\n",
    "\n",
    "# Local library path for nn_lib_v2 (adjust if needed)\n",
    "root = Path(__file__).resolve().parents[1] if '__file__' in globals() else Path.cwd().parents[0]\n",
    "lib_path = root / 'programs' / 'demos' / 'machine_learning' / 'nn_lib_v2'\n",
    "if lib_path.exists():\n",
    "    sys.path.insert(0, str(lib_path))\n",
    "\n",
    "try:\n",
    "    from pmflow_bnn.baselines import CNNBaseline, MLPBaseline\n",
    "    from pmflow_bnn.evaluation import PMFlowEvaluator\n",
    "    print(\"✅ Imported CNN/MLP baselines and evaluator from nn_lib_v2/pmflow_bnn\")\n",
    "except Exception as e:\n",
    "    print(\"⚠️ Could not import from local nn_lib_v2. Error:\", e)\n",
    "    CNNBaseline = None\n",
    "    MLPBaseline = None\n",
    "    PMFlowEvaluator = None"
   ]
  },
  {
   "cell_type": "code",
   "execution_count": 2,
   "id": "67316fa5",
   "metadata": {},
   "outputs": [
    {
     "name": "stdout",
     "output_type": "stream",
     "text": [
      "Using device: cpu\n"
     ]
    }
   ],
   "source": [
    "# 2) Configure Reproducibility and Device\n",
    "seed = 42\n",
    "random.seed(seed)\n",
    "np.random.seed(seed)\n",
    "torch.manual_seed(seed)\n",
    "if torch.cuda.is_available():\n",
    "    torch.cuda.manual_seed_all(seed)\n",
    "\n",
    "device = torch.device('cuda' if torch.cuda.is_available() else 'cpu')\n",
    "print(f\"Using device: {device}\")\n",
    "if device.type == 'cuda':\n",
    "    print(f\"CUDA device count: {torch.cuda.device_count()}\")\n",
    "    print(f\"Current device: {torch.cuda.current_device()}\")\n",
    "    print(f\"Device name: {torch.cuda.get_device_name(torch.cuda.current_device())}\")"
   ]
  },
  {
   "cell_type": "code",
   "execution_count": 3,
   "id": "4c7cca05",
   "metadata": {},
   "outputs": [
    {
     "name": "stderr",
     "output_type": "stream",
     "text": [
      "100%|██████████| 9.91M/9.91M [00:03<00:00, 3.18MB/s]\n",
      "\n",
      "100%|██████████| 28.9k/28.9k [00:00<00:00, 126kB/s]\n",
      "\n",
      "100%|██████████| 1.65M/1.65M [00:01<00:00, 959kB/s]\n",
      "\n",
      "100%|██████████| 4.54k/4.54k [00:00<00:00, 1.56MB/s]\n",
      "\n"
     ]
    },
    {
     "name": "stdout",
     "output_type": "stream",
     "text": [
      "Train/Val/Test sizes: 55000/5000/10000\n"
     ]
    }
   ],
   "source": [
    "# 3) Load Dataset (MNIST)\n",
    "\n",
    "data_dir = str((Path.home() / '.torch' / 'datasets').resolve())\n",
    "transform = transforms.Compose([\n",
    "    transforms.ToTensor(),  # (1,28,28) in [0,1]\n",
    "])\n",
    "\n",
    "train_dataset = datasets.MNIST(root=data_dir, train=True, download=True, transform=transform)\n",
    "val_size = 5000\n",
    "train_size = len(train_dataset) - val_size\n",
    "train_ds, val_ds = torch.utils.data.random_split(train_dataset, [train_size, val_size])\n",
    "\n",
    "test_dataset = datasets.MNIST(root=data_dir, train=False, download=True, transform=transform)\n",
    "\n",
    "batch_size = 128\n",
    "train_loader = DataLoader(train_ds, batch_size=batch_size, shuffle=True, num_workers=2, pin_memory=device.type=='cuda')\n",
    "val_loader = DataLoader(val_ds, batch_size=batch_size, shuffle=False, num_workers=2, pin_memory=device.type=='cuda')\n",
    "test_loader = DataLoader(test_dataset, batch_size=batch_size, shuffle=False, num_workers=2, pin_memory=device.type=='cuda')\n",
    "\n",
    "print(f\"Train/Val/Test sizes: {len(train_ds)}/{len(val_ds)}/{len(test_dataset)}\")"
   ]
  },
  {
   "cell_type": "code",
   "execution_count": 4,
   "id": "4f9853c7",
   "metadata": {},
   "outputs": [
    {
     "data": {
      "image/png": "[encoded data removed]",
      "text/plain": [
       "<Figure size 800x800 with 9 Axes>"
      ]
     },
     "metadata": {},
     "output_type": "display_data"
    }
   ],
   "source": [
    "# 4) Inspect and Visualize Samples\n",
    "classes = [str(i) for i in range(10)]\n",
    "examples, labels = next(iter(train_loader))\n",
    "\n",
    "plt.figure(figsize=(8, 8))\n",
    "for i in range(9):\n",
    "    plt.subplot(3, 3, i+1)\n",
    "    plt.imshow(examples[i][0].numpy(), cmap='gray')\n",
    "    plt.title(f\"Label: {classes[labels[i].item()]}\")\n",
    "    plt.axis('off')\n",
    "plt.tight_layout()\n",
    "plt.show()"
   ]
  },
  {
   "cell_type": "code",
   "execution_count": 5,
   "id": "cc6650f8",
   "metadata": {},
   "outputs": [
    {
     "name": "stdout",
     "output_type": "stream",
     "text": [
      "CNNBaseline(\n",
      "  (net): Sequential(\n",
      "    (0): Conv2d(1, 32, kernel_size=(3, 3), stride=(1, 1), padding=(1, 1))\n",
      "    (1): ReLU()\n",
      "    (2): Conv2d(32, 64, kernel_size=(3, 3), stride=(1, 1), padding=(1, 1))\n",
      "    (3): ReLU()\n",
      "    (4): MaxPool2d(kernel_size=2, stride=2, padding=0, dilation=1, ceil_mode=False)\n",
      "    (5): Conv2d(64, 128, kernel_size=(3, 3), stride=(1, 1), padding=(1, 1))\n",
      "    (6): ReLU()\n",
      "    (7): MaxPool2d(kernel_size=2, stride=2, padding=0, dilation=1, ceil_mode=False)\n",
      "    (8): Flatten(start_dim=1, end_dim=-1)\n",
      "    (9): Linear(in_features=6272, out_features=256, bias=True)\n",
      "    (10): ReLU()\n",
      "    (11): Linear(in_features=256, out_features=10, bias=True)\n",
      "  )\n",
      ")\n",
      "Trainable parameters: 1,701,130\n"
     ]
    }
   ],
   "source": [
    "# 5) Preprocess and Data Pipeline (already normalized via ToTensor)\n",
    "# Additional normalization to zero-mean/unit-variance could be added if desired.\n",
    "\n",
    "# 6) Define CNN Architecture (use library baseline)\n",
    "use_mlp_baseline = False  # flip to compare MLP\n",
    "\n",
    "num_classes = 10\n",
    "cnn = CNNBaseline(n_classes=num_classes).to(device) if CNNBaseline else None\n",
    "mlp = MLPBaseline(n_classes=num_classes).to(device) if (MLPBaseline and use_mlp_baseline) else None\n",
    "model = cnn if not use_mlp_baseline else mlp\n",
    "\n",
    "print(model)\n",
    "\n",
    "# Count parameters\n",
    "param_count = sum(p.numel() for p in model.parameters() if p.requires_grad)\n",
    "print(f\"Trainable parameters: {param_count:,}\")"
   ]
  },
  {
   "cell_type": "code",
   "execution_count": null,
   "id": "e0054d83",
   "metadata": {},
   "outputs": [
    {
     "name": "stderr",
     "output_type": "stream",
     "text": [
      "/home/tmumford/Documents/gravity/.venv/lib/python3.11/site-packages/tqdm/auto.py:21: TqdmWarning: IProgress not found. Please update jupyter and ipywidgets. See https://ipywidgets.readthedocs.io/en/stable/user_install.html\n",
      "  from .autonotebook import tqdm as notebook_tqdm\n",
      "                                                                         \r"
     ]
    },
    {
     "name": "stdout",
     "output_type": "stream",
     "text": [
      "Epoch 01 | train_acc=0.9929 val_acc=0.9878 train_loss=0.0235 val_loss=0.0368\n"
     ]
    },
    {
     "name": "stderr",
     "output_type": "stream",
     "text": [
      "                                                                         \r"
     ]
    },
    {
     "name": "stdout",
     "output_type": "stream",
     "text": [
      "Epoch 02 | train_acc=0.9915 val_acc=0.9864 train_loss=0.0267 val_loss=0.0438\n"
     ]
    },
    {
     "name": "stderr",
     "output_type": "stream",
     "text": [
      "                                                                         \r"
     ]
    },
    {
     "name": "stdout",
     "output_type": "stream",
     "text": [
      "Epoch 03 | train_acc=0.9956 val_acc=0.9898 train_loss=0.0138 val_loss=0.0349\n"
     ]
    },
    {
     "name": "stderr",
     "output_type": "stream",
     "text": [
      "                                                                         \r"
     ]
    },
    {
     "name": "stdout",
     "output_type": "stream",
     "text": [
      "Epoch 04 | train_acc=0.9968 val_acc=0.9896 train_loss=0.0108 val_loss=0.0334\n"
     ]
    },
    {
     "name": "stderr",
     "output_type": "stream",
     "text": [
      "                                                                         \r"
     ]
    },
    {
     "name": "stdout",
     "output_type": "stream",
     "text": [
      "Epoch 05 | train_acc=0.9989 val_acc=0.9924 train_loss=0.0041 val_loss=0.0229\n"
     ]
    }
   ],
   "source": [
    "# 7) Loss, Optimizer, Metrics\n",
    "criterion = nn.CrossEntropyLoss()\n",
    "optimizer = optim.Adam(model.parameters(), lr=1e-3)\n",
    "\n",
    "@torch.no_grad()\n",
    "def evaluate(loader):\n",
    "    model.eval()\n",
    "    total, correct, total_loss = 0, 0, 0.0\n",
    "    for x, y in loader:\n",
    "        x, y = x.to(device), y.to(device)\n",
    "        logits = model(x)\n",
    "        loss = criterion(logits, y)\n",
    "        total_loss += loss.item() * x.size(0)\n",
    "        pred = logits.argmax(dim=1)\n",
    "        correct += (pred == y).sum().item()\n",
    "        total += x.size(0)\n",
    "    return correct/total, total_loss/total\n",
    "\n",
    "# 8) Train with simple early stopping (with progress bar + history)\n",
    "best_val_acc = 0.0\n",
    "patience, wait = 5, 0\n",
    "num_epochs = 5\n",
    "ckpt_path = str((Path.cwd() / 'cnn_mnist_ckpt.pt').resolve())\n",
    "\n",
    "from tqdm.auto import tqdm  # progress bar in notebooks/terminals\n",
    "\n",
    "# History for plots\n",
    "history = {\n",
    "    'epoch': [], 'train_acc': [], 'train_loss': [], 'val_acc': [], 'val_loss': [], 'epoch_sec': []\n",
    "}\n",
    "\n",
    "for epoch in range(1, num_epochs+1):\n",
    "    model.train()\n",
    "    running_loss = 0.0\n",
    "    start_t = time.time()\n",
    "    batch_iter = tqdm(train_loader, desc=f\"Epoch {epoch}/{num_epochs}\", leave=False)\n",
    "    for x, y in batch_iter:\n",
    "        x, y = x.to(device), y.to(device)\n",
    "        optimizer.zero_grad()\n",
    "        logits = model(x)\n",
    "        loss = criterion(logits, y)\n",
    "        loss.backward()\n",
    "        optimizer.step()\n",
    "        running_loss += loss.item() * x.size(0)\n",
    "        batch_iter.set_postfix(loss=f\"{loss.item():.4f}\")\n",
    "\n",
    "    train_acc, train_loss = evaluate(train_loader)\n",
    "    val_acc, val_loss = evaluate(val_loader)\n",
    "    epoch_time = time.time() - start_t\n",
    "    history['epoch'].append(epoch)\n",
    "    history['train_acc'].append(train_acc)\n",
    "    history['train_loss'].append(train_loss)\n",
    "    history['val_acc'].append(val_acc)\n",
    "    history['val_loss'].append(val_loss)\n",
    "    history['epoch_sec'].append(epoch_time)\n",
    "\n",
    "    print(f\"Epoch {epoch:02d} | train_acc={train_acc:.4f} val_acc={val_acc:.4f} train_loss={train_loss:.4f} val_loss={val_loss:.4f} time={epoch_time:.1f}s\")\n",
    "\n",
    "    if val_acc > best_val_acc:\n",
    "        best_val_acc = val_acc\n",
    "        wait = 0\n",
    "        torch.save({'model_state': model.state_dict()}, ckpt_path)\n",
    "    else:\n",
    "        wait += 1\n",
    "        if wait >= patience:\n",
    "            print(\"Early stopping triggered.\")\n",
    "            break"
   ]
  },
  {
   "cell_type": "code",
   "execution_count": 8,
   "id": "a261a30c",
   "metadata": {},
   "outputs": [
    {
     "name": "stdout",
     "output_type": "stream",
     "text": [
      "Test accuracy=0.9933, loss=0.0214\n"
     ]
    }
   ],
   "source": [
    "# 9) Evaluate on Test Set\n",
    "# Load best checkpoint\n",
    "if os.path.exists(ckpt_path):\n",
    "    state = torch.load(ckpt_path, map_location=device)\n",
    "    model.load_state_dict(state['model_state'])\n",
    "\n",
    "test_acc, test_loss = evaluate(test_loader)\n",
    "print(f\"Test accuracy={test_acc:.4f}, loss={test_loss:.4f}\")"
   ]
  },
  {
   "cell_type": "code",
   "execution_count": 9,
   "id": "ee8b8f13",
   "metadata": {},
   "outputs": [
    {
     "name": "stdout",
     "output_type": "stream",
     "text": [
      "Reloaded model batch preds: [7, 2, 1, 0, 4, 1, 4, 9, 5, 9]\n"
     ]
    }
   ],
   "source": [
    "# 10) Save and Load Checkpoints (explicit demo)\n",
    "save_demo_path = str((Path.cwd() / 'cnn_mnist_final.pt').resolve())\n",
    "torch.save({'model_state': model.state_dict()}, save_demo_path)\n",
    "\n",
    "# Reload and run a quick inference batch\n",
    "reloaded = CNNBaseline(n_classes=num_classes).to(device)\n",
    "reloaded.load_state_dict(torch.load(save_demo_path, map_location=device)['model_state'])\n",
    "reloaded.eval()\n",
    "\n",
    "x, y = next(iter(test_loader))\n",
    "x = x.to(device)\n",
    "with torch.no_grad():\n",
    "    logits = reloaded(x)\n",
    "    pred = logits.argmax(dim=1)\n",
    "print(\"Reloaded model batch preds:\", pred[:10].tolist())"
   ]
  },
  {
   "cell_type": "code",
   "execution_count": 10,
   "id": "ce168e31",
   "metadata": {},
   "outputs": [
    {
     "name": "stdout",
     "output_type": "stream",
     "text": [
      "Top-3 predictions for 4 images:\n",
      "  True=7 Preds=[7, 3, 9] Scores=[1.0, 0.0, 0.0]\n",
      "  True=2 Preds=[2, 1, 0] Scores=[1.0, 0.0, 0.0]\n",
      "  True=1 Preds=[1, 4, 7] Scores=[1.0, 0.0, 0.0]\n",
      "  True=0 Preds=[0, 6, 5] Scores=[1.0, 0.0, 0.0]\n"
     ]
    }
   ],
   "source": [
    "# 11) Run Inference on New Images (optional: synthetic example)\n",
    "@torch.no_grad()\n",
    "def infer_images(img_tensors, topk=3):\n",
    "    model.eval()\n",
    "    img_tensors = img_tensors.to(device)\n",
    "    logits = model(img_tensors)\n",
    "    probs = F.softmax(logits, dim=1)\n",
    "    scores, idxs = probs.topk(topk, dim=1)\n",
    "    return scores.cpu().numpy(), idxs.cpu().numpy()\n",
    "\n",
    "# Take a few from test set\n",
    "imgs, labels = next(iter(test_loader))\n",
    "scores, idxs = infer_images(imgs[:4])\n",
    "print(\"Top-3 predictions for 4 images:\")\n",
    "for i in range(4):\n",
    "    print(f\"  True={labels[i].item()} Preds={idxs[i].tolist()} Scores={[round(s,3) for s in scores[i].tolist()]}\")"
   ]
  },
  {
   "cell_type": "code",
   "execution_count": 11,
   "id": "fec77e54",
   "metadata": {},
   "outputs": [
    {
     "name": "stdout",
     "output_type": "stream",
     "text": [
      "Augmentation disabled. Set use_aug=True to enable.\n"
     ]
    }
   ],
   "source": [
    "# 12) Optional: Data Augmentation (switchable pipeline)\n",
    "use_aug = False\n",
    "if use_aug:\n",
    "    aug_transform = transforms.Compose([\n",
    "        transforms.RandomCrop(28, padding=4),\n",
    "        transforms.RandomHorizontalFlip(),\n",
    "        transforms.ToTensor(),\n",
    "    ])\n",
    "    aug_train = datasets.MNIST(root=data_dir, train=True, download=False, transform=aug_transform)\n",
    "    aug_loader = DataLoader(aug_train, batch_size=batch_size, shuffle=True, num_workers=2)\n",
    "    # Demonstrate one quick epoch over aug data\n",
    "    model.train()\n",
    "    for x, y in aug_loader:\n",
    "        x, y = x.to(device), y.to(device)\n",
    "        optimizer.zero_grad()\n",
    "        logits = model(x)\n",
    "        loss = criterion(logits, y)\n",
    "        loss.backward()\n",
    "        optimizer.step()\n",
    "    print(\"Ran one augmentation epoch.\")\n",
    "else:\n",
    "    print(\"Augmentation disabled. Set use_aug=True to enable.\")"
   ]
  },
  {
   "cell_type": "code",
   "execution_count": 12,
   "id": "fc293d72",
   "metadata": {},
   "outputs": [
    {
     "name": "stdout",
     "output_type": "stream",
     "text": [
      "Sweep disabled. Set sweep=True to enable a quick LR sweep.\n"
     ]
    }
   ],
   "source": [
    "# 13) Optional: Hyperparameter Tuning Sweep (tiny demo)\n",
    "# For brevity, we'll sweep over two learning rates for 1 epoch each\n",
    "sweep = False\n",
    "if sweep:\n",
    "    lrs = [1e-3, 3e-4]\n",
    "    results = {}\n",
    "    for lr in lrs:\n",
    "        tmp_model = CNNBaseline(n_classes=num_classes).to(device)\n",
    "        tmp_opt = optim.Adam(tmp_model.parameters(), lr=lr)\n",
    "        tmp_crit = nn.CrossEntropyLoss()\n",
    "        tmp_model.train()\n",
    "        for x, y in train_loader:\n",
    "            x, y = x.to(device), y.to(device)\n",
    "            tmp_opt.zero_grad()\n",
    "            logits = tmp_model(x)\n",
    "            loss = tmp_crit(logits, y)\n",
    "            loss.backward()\n",
    "            tmp_opt.step()\n",
    "        acc, _ = evaluate(val_loader)\n",
    "        results[lr] = acc\n",
    "    print(\"Sweep results:\", results)\n",
    "else:\n",
    "    print(\"Sweep disabled. Set sweep=True to enable a quick LR sweep.\")"
   ]
  },
  {
   "cell_type": "code",
   "execution_count": 13,
   "id": "58b61b04",
   "metadata": {},
   "outputs": [
    {
     "name": "stdout",
     "output_type": "stream",
     "text": [
      "ONNX export disabled. Set export_onnx=True to enable.\n"
     ]
    }
   ],
   "source": [
    "# 14) Optional: Export Model to ONNX\n",
    "export_onnx = False\n",
    "onnx_path = str((Path.cwd() / 'cnn_mnist.onnx').resolve())\n",
    "if export_onnx:\n",
    "    dummy = torch.randn(1, 1, 28, 28, device=device)\n",
    "    torch.onnx.export(model, dummy, onnx_path, input_names=['input'], output_names=['logits'], opset_version=13)\n",
    "    print(\"Exported to:\", onnx_path)\n",
    "else:\n",
    "    print(\"ONNX export disabled. Set export_onnx=True to enable.\")"
   ]
  },
  {
   "cell_type": "code",
   "execution_count": 14,
   "id": "02a2631b",
   "metadata": {},
   "outputs": [
    {
     "name": "stdout",
     "output_type": "stream",
     "text": [
      "Basic forward/backward test passed. Loss: 0.00038025982212275267\n"
     ]
    }
   ],
   "source": [
    "# 15) Optional: Basic Unit Tests for Data and Model\n",
    "assert next(iter(train_loader))[0].shape[1:] == (1, 28, 28), \"Expected MNIST tensors with shape (B, 1, 28, 28)\"\n",
    "\n",
    "# Quick forward-backward pass with a tiny batch for determinism\n",
    "_small_x, _small_y = next(iter(train_loader))\n",
    "_small_x, _small_y = _small_x[:8].to(device), _small_y[:8].to(device)\n",
    "model.train()\n",
    "optimizer.zero_grad()\n",
    "logits = model(_small_x)\n",
    "loss = criterion(logits, _small_y)\n",
    "loss.backward()\n",
    "optimizer.step()\n",
    "print(\"Basic forward/backward test passed. Loss:\", float(loss.item()))"
   ]
  },
  {
   "cell_type": "code",
   "execution_count": null,
   "id": "e99717d0",
   "metadata": {},
   "outputs": [],
   "source": [
    "# 16) Learning curves: accuracy and loss over epochs\n",
    "if 'history' in globals() and len(history['epoch']) > 0:\n",
    "    fig, axs = plt.subplots(1, 3, figsize=(16,4))\n",
    "    axs[0].plot(history['epoch'], history['train_acc'], label='train_acc')\n",
    "    axs[0].plot(history['epoch'], history['val_acc'], label='val_acc')\n",
    "    axs[0].set_title('Accuracy'); axs[0].set_xlabel('Epoch'); axs[0].legend(); axs[0].grid(True, alpha=0.3)\n",
    "\n",
    "    axs[1].plot(history['epoch'], history['train_loss'], label='train_loss')\n",
    "    axs[1].plot(history['epoch'], history['val_loss'], label='val_loss')\n",
    "    axs[1].set_title('Loss'); axs[1].set_xlabel('Epoch'); axs[1].legend(); axs[1].grid(True, alpha=0.3)\n",
    "\n",
    "    axs[2].bar(history['epoch'], history['epoch_sec'])\n",
    "    axs[2].set_title('Epoch time (s)'); axs[2].set_xlabel('Epoch')\n",
    "    plt.tight_layout(); plt.show()\n",
    "else:\n",
    "    print('No training history found. Re-run training cell to populate history.')"
   ]
  },
  {
   "cell_type": "code",
   "execution_count": null,
   "id": "63a5414a",
   "metadata": {},
   "outputs": [],
   "source": [
    "# 17) Confusion matrix and per-class accuracy\n",
    "import itertools\n",
    "from collections import defaultdict\n",
    "\n",
    "# Gather all predictions on test set\n",
    "all_preds = []\n",
    "all_labels = []\n",
    "model.eval()\n",
    "with torch.no_grad():\n",
    "    for x, y in test_loader:\n",
    "        x, y = x.to(device), y.to(device)\n",
    "        logits = model(x)\n",
    "        pred = logits.argmax(dim=1)\n",
    "        all_preds.append(pred.cpu())\n",
    "        all_labels.append(y.cpu())\n",
    "\n",
    "all_preds = torch.cat(all_preds)\n",
    "all_labels = torch.cat(all_labels)\n",
    "num_classes = 10\n",
    "\n",
    "# Confusion matrix\n",
    "cm = torch.zeros((num_classes, num_classes), dtype=torch.int64)\n",
    "for t, p in zip(all_labels, all_preds):\n",
    "    cm[t, p] += 1\n",
    "\n",
    "# Plot confusion matrix\n",
    "fig, ax = plt.subplots(figsize=(6,6))\n",
    "im = ax.imshow(cm.numpy(), cmap='Blues')\n",
    "ax.set_xlabel('Predicted')\n",
    "ax.set_ylabel('True')\n",
    "ax.set_xticks(range(num_classes)); ax.set_yticks(range(num_classes))\n",
    "fig.colorbar(im, ax=ax, fraction=0.046, pad=0.04)\n",
    "ax.set_title('Confusion Matrix (counts)')\n",
    "plt.show()\n",
    "\n",
    "# Per-class accuracy\n",
    "per_class_acc = []\n",
    "for c in range(num_classes):\n",
    "    total_c = cm[c].sum().item()\n",
    "    correct_c = cm[c, c].item()\n",
    "    per_class_acc.append(correct_c / total_c if total_c > 0 else 0.0)\n",
    "\n",
    "plt.figure(figsize=(8,3))\n",
    "plt.bar(range(num_classes), per_class_acc)\n",
    "plt.xlabel('Class'); plt.ylabel('Accuracy')\n",
    "plt.title('Per-class Accuracy'); plt.ylim(0,1.0)\n",
    "plt.grid(True, axis='y', alpha=0.3)\n",
    "plt.show()\n",
    "\n",
    "print('Per-class accuracy:', [round(a,3) for a in per_class_acc])"
   ]
  },
  {
   "cell_type": "code",
   "execution_count": null,
   "id": "5c70e32d",
   "metadata": {},
   "outputs": [],
   "source": [
    "# 18) Misclassified examples gallery\n",
    "@torch.no_grad()\n",
    "def collect_misclassified(max_samples=36):\n",
    "    model.eval()\n",
    "    imgs, trues, preds, confs = [], [], [], []\n",
    "    for x, y in test_loader:\n",
    "        x = x.to(device)\n",
    "        logits = model(x)\n",
    "        prob = F.softmax(logits, dim=1)\n",
    "        pred = prob.argmax(dim=1).cpu()\n",
    "        conf = prob.max(dim=1).values.cpu()\n",
    "        y_cpu = y.cpu()\n",
    "        mis_mask = pred != y_cpu\n",
    "        if mis_mask.any():\n",
    "            idxs = mis_mask.nonzero(as_tuple=False).squeeze(1)\n",
    "            for i in idxs:\n",
    "                imgs.append(x[i].cpu())\n",
    "                trues.append(int(y_cpu[i]))\n",
    "                preds.append(int(pred[i]))\n",
    "                confs.append(float(conf[i]))\n",
    "                if len(imgs) >= max_samples:\n",
    "                    return imgs, trues, preds, confs\n",
    "    return imgs, trues, preds, confs\n",
    "\n",
    "mis_imgs, mis_trues, mis_preds, mis_confs = collect_misclassified()\n",
    "print(f\"Collected {len(mis_imgs)} misclassified samples.\")\n",
    "\n",
    "cols = 6\n",
    "rows = max(1, (len(mis_imgs) + cols - 1) // cols)\n",
    "plt.figure(figsize=(cols*2, rows*2))\n",
    "for i, img in enumerate(mis_imgs[:cols*rows]):\n",
    "    plt.subplot(rows, cols, i+1)\n",
    "    plt.imshow(img[0].numpy(), cmap='gray')\n",
    "    plt.title(f\"t={mis_trues[i]} p={mis_preds[i]} ({mis_confs[i]:.2f})\")\n",
    "    plt.axis('off')\n",
    "plt.tight_layout()\n",
    "plt.show()"
   ]
  },
  {
   "cell_type": "code",
   "execution_count": null,
   "id": "32b49ba8",
   "metadata": {},
   "outputs": [],
   "source": [
    "# 19) Optional: Throughput scaling on CNN (using PMFlowEvaluator-style plot)\n",
    "try:\n",
    "    from pmflow_bnn.evaluation import PMFlowEvaluator\n",
    "    evaluator = PMFlowEvaluator(device=device)\n",
    "\n",
    "    # Reuse evaluator's method but with CNN input shape (1,28,28)\n",
    "    # We'll wrap the CNN with a lambda to adapt the call signature.\n",
    "    class WrapCNN(torch.nn.Module):\n",
    "        def __init__(self, base):\n",
    "            super().__init__()\n",
    "            self.base = base\n",
    "        def forward(self, x):\n",
    "            # evaluator generates (B, 28*28); reshape\n",
    "            if x.ndim == 2 and x.shape[1] == 28*28:\n",
    "                x = x.view(x.size(0), 1, 28, 28)\n",
    "            return self.base(x)\n",
    "\n",
    "    wrapped = WrapCNN(model).to(device)\n",
    "    ep = evaluator.evaluate_embarrassingly_parallel_scaling(wrapped, max_batch_size=128, input_shape=(28*28,))\n",
    "\n",
    "    # Simple throughput plot\n",
    "    bs = ep['batch_sizes']\n",
    "    th = ep['throughputs']\n",
    "    plt.figure(figsize=(6,4))\n",
    "    plt.plot(bs, th, 'o-')\n",
    "    plt.xlabel('Batch size'); plt.ylabel('Samples/sec')\n",
    "    plt.title('CNN Throughput vs Batch Size')\n",
    "    plt.grid(True, alpha=0.3)\n",
    "    plt.show()\n",
    "except Exception as e:\n",
    "    print('Throughput scaling skipped:', e)"
   ]
  },
  {
   "cell_type": "code",
   "execution_count": null,
   "id": "6e0b5060",
   "metadata": {},
   "outputs": [],
   "source": [
    "# 20) Final summary\n",
    "# Reuse existing test metrics and details computed above\n",
    "if 'test_acc' not in globals() or 'test_loss' not in globals():\n",
    "    test_acc, test_loss = evaluate(test_loader)\n",
    "\n",
    "best_cls = worst_cls = None\n",
    "if 'per_class_acc' in globals():\n",
    "    best_cls = int(np.argmax(per_class_acc))\n",
    "    worst_cls = int(np.argmin(per_class_acc))\n",
    "\n",
    "print('\\n===== SUMMARY =====')\n",
    "print(f'Test accuracy: {test_acc:.4f}')\n",
    "print(f'Test loss:     {test_loss:.4f}')\n",
    "if best_cls is not None:\n",
    "    print(f'Best class:  {best_cls} (acc={per_class_acc[best_cls]:.3f})')\n",
    "    print(f'Worst class: {worst_cls} (acc={per_class_acc[worst_cls]:.3f})')\n",
    "if 'history' in globals() and len(history[\"epoch\"])>0:\n",
    "    print(f'Epochs run: {history[\"epoch\"][-1]} (avg {np.mean(history[\"epoch_sec\"]):.1f}s/epoch)')\n",
    "print('===================\\n')"
   ]
  },
  {
   "cell_type": "markdown",
   "id": "787b2206",
   "metadata": {},
   "source": [
    "## PMFlow core tests\n",
    "The following cells instantiate a PMFlow BNN from the library and run the meaningful capability evaluations (parallel scaling, gravitational dynamics, biological plasticity). This keeps the focus on PMFlow rather than CNN baselines."
   ]
  },
  {
   "cell_type": "code",
   "execution_count": null,
   "id": "826b7d85",
   "metadata": {},
   "outputs": [],
   "source": [
    "# A) Instantiate PMFlow BNN with optimized config\n",
    "from pmflow_bnn import get_model_v2, get_performance_config\n",
    "\n",
    "pm_config = get_performance_config('auto')\n",
    "pm_config['model_type'] = 'always_plastic_v2'  # focus on PMFlow plasticity\n",
    "print('PMFlow config:', pm_config)\n",
    "\n",
    "pm_model = get_model_v2(**pm_config).to(device)\n",
    "pm_model.train()\n",
    "\n",
    "# Create simple MNIST-like tensors for evaluation\n",
    "train_data = torch.randn(200, 28*28)\n",
    "train_labels = torch.randint(0, 10, (200,))\n",
    "shifting_datasets = [\n",
    "    (torch.randn(120, 28*28), torch.randint(0, 10, (120,))),\n",
    "    (torch.randn(120, 28*28), torch.randint(0, 10, (120,)))\n",
    "]\n",
    "\n",
    "print('PMFlow model ready.')"
   ]
  },
  {
   "cell_type": "code",
   "execution_count": null,
   "id": "cdf937ed",
   "metadata": {},
   "outputs": [],
   "source": [
    "# B) Run PMFlowEvaluator capability tests\n",
    "from pmflow_bnn import PMFlowEvaluator\n",
    "\n",
    "pm_evaluator = PMFlowEvaluator(device=device)\n",
    "\n",
    "# 1) Embarrassingly parallel scaling\n",
    "_ = pm_evaluator.evaluate_embarrassingly_parallel_scaling(pm_model, max_batch_size=64, input_shape=(28*28,))\n",
    "\n",
    "# 2) Gravitational dynamics (center movement/specialization)\n",
    "_ = pm_evaluator.evaluate_gravitational_dynamics(pm_model, train_data, train_labels, adaptation_steps=6)\n",
    "\n",
    "# 3) Biological plasticity (adaptation + retention)\n",
    "_ = pm_evaluator.evaluate_biological_plasticity(pm_model, train_data, train_labels, shifting_datasets)\n",
    "\n",
    "print('PMFlow capability tests complete.')"
   ]
  },
  {
   "cell_type": "code",
   "execution_count": null,
   "id": "b0997d0e",
   "metadata": {},
   "outputs": [],
   "source": [
    "# C) Visualize and report PMFlow capabilities\n",
    "pm_evaluator.visualize_results()\n",
    "print(pm_evaluator.generate_report())"
   ]
  }
 ],
 "metadata": {
  "kernelspec": {
   "display_name": ".venv (3.11.2)",
   "language": "python",
   "name": "python3"
  },
  "language_info": {
   "codemirror_mode": {
    "name": "ipython",
    "version": 3
   },
   "file_extension": ".py",
   "mimetype": "text/x-python",
   "name": "python",
   "nbconvert_exporter": "python",
   "pygments_lexer": "ipython3",
   "version": "3.11.2"
  }
 },
 "nbformat": 4,
 "nbformat_minor": 5
}
